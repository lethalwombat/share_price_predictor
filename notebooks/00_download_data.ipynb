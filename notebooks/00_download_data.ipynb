{
 "cells": [
  {
   "cell_type": "markdown",
   "id": "b0baf9ac",
   "metadata": {},
   "source": [
    "### This notebook downloads historical stock data from https://finance.yahoo.com/"
   ]
  },
  {
   "cell_type": "markdown",
   "id": "1171b925",
   "metadata": {},
   "source": [
    "Import libraries"
   ]
  },
  {
   "cell_type": "code",
   "execution_count": 1,
   "id": "ef430c60",
   "metadata": {},
   "outputs": [],
   "source": [
    "import sys\n",
    "# path for helpers functions\n",
    "sys.path.append('/helpers')\n",
    "from yahoo import download_stock_data"
   ]
  },
  {
   "cell_type": "markdown",
   "id": "a306d3e9",
   "metadata": {},
   "source": [
    "#### Use the selectors below to set the required timeframe and stock codes"
   ]
  },
  {
   "cell_type": "code",
   "execution_count": 2,
   "id": "540a5619",
   "metadata": {},
   "outputs": [
    {
     "data": {
      "application/vnd.jupyter.widget-view+json": {
       "model_id": "a76aec017f5943f6baba516d83968230",
       "version_major": 2,
       "version_minor": 0
      },
      "text/plain": [
       "Dropdown(description='Start year:', options=('2010', '2011', '2012', '2013', '2014', '2015', '2016', '2017', '…"
      ]
     },
     "metadata": {},
     "output_type": "display_data"
    },
    {
     "data": {
      "application/vnd.jupyter.widget-view+json": {
       "model_id": "351c8149258148a3ad7e56f446fe3639",
       "version_major": 2,
       "version_minor": 0
      },
      "text/plain": [
       "Dropdown(description='Training:', options=('3 months', '6 months', '9 months', '12 months'), value='3 months')"
      ]
     },
     "metadata": {},
     "output_type": "display_data"
    },
    {
     "data": {
      "application/vnd.jupyter.widget-view+json": {
       "model_id": "cd899f43c6d94bc78759ea4ecf4dbc78",
       "version_major": 2,
       "version_minor": 0
      },
      "text/plain": [
       "Dropdown(description='Validation:', options=('3 months', '6 months', '9 months', '12 months'), value='3 months…"
      ]
     },
     "metadata": {},
     "output_type": "display_data"
    },
    {
     "data": {
      "application/vnd.jupyter.widget-view+json": {
       "model_id": "e37ab70c1cd943d0acec70b08283c300",
       "version_major": 2,
       "version_minor": 0
      },
      "text/plain": [
       "SelectMultiple(description='Stock codes:', index=(0,), options=('IVV', 'IVV.AX', 'NDQ', 'NDQ.AX'), value=('IVV…"
      ]
     },
     "metadata": {},
     "output_type": "display_data"
    },
    {
     "data": {
      "application/vnd.jupyter.widget-view+json": {
       "model_id": "6a72e6c5ce774f98ab6f1e7853d39f16",
       "version_major": 2,
       "version_minor": 0
      },
      "text/plain": [
       "Button(description='Check settings', style=ButtonStyle())"
      ]
     },
     "metadata": {},
     "output_type": "display_data"
    },
    {
     "data": {
      "application/vnd.jupyter.widget-view+json": {
       "model_id": "c165d7b72bd44e1dacbce649b50cecc9",
       "version_major": 2,
       "version_minor": 0
      },
      "text/plain": [
       "Output()"
      ]
     },
     "metadata": {},
     "output_type": "display_data"
    },
    {
     "data": {
      "application/vnd.jupyter.widget-view+json": {
       "model_id": "c726800970e44ee5a541dc8ae64f60d6",
       "version_major": 2,
       "version_minor": 0
      },
      "text/plain": [
       "Button(description='Download', style=ButtonStyle())"
      ]
     },
     "metadata": {},
     "output_type": "display_data"
    },
    {
     "data": {
      "application/vnd.jupyter.widget-view+json": {
       "model_id": "fe432cd1182344f9b99ecfc722f48cc9",
       "version_major": 2,
       "version_minor": 0
      },
      "text/plain": [
       "Output()"
      ]
     },
     "metadata": {},
     "output_type": "display_data"
    }
   ],
   "source": [
    "from notebook_widgets.download import selectors, check_button, check_button_output, download_button, download_button_output\n",
    "# display widgets\n",
    "for s in selectors:\n",
    "    display(selectors[s]['display'])\n",
    "    \n",
    "# display buttons\n",
    "display(check_button, check_button_output)\n",
    "display(download_button, download_button_output)"
   ]
  },
  {
   "cell_type": "code",
   "execution_count": 3,
   "id": "94dfadba",
   "metadata": {},
   "outputs": [
    {
     "data": {
      "text/plain": [
       "3"
      ]
     },
     "execution_count": 3,
     "metadata": {},
     "output_type": "execute_result"
    }
   ],
   "source": [
    "int('3 months'.split('months')[0])"
   ]
  }
 ],
 "metadata": {
  "kernelspec": {
   "display_name": "Python 3 (ipykernel)",
   "language": "python",
   "name": "python3"
  },
  "language_info": {
   "codemirror_mode": {
    "name": "ipython",
    "version": 3
   },
   "file_extension": ".py",
   "mimetype": "text/x-python",
   "name": "python",
   "nbconvert_exporter": "python",
   "pygments_lexer": "ipython3",
   "version": "3.8.15"
  }
 },
 "nbformat": 4,
 "nbformat_minor": 5
}
