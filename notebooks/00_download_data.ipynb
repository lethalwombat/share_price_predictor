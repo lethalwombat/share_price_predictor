{
 "cells": [
  {
   "cell_type": "markdown",
   "id": "b0baf9ac",
   "metadata": {},
   "source": [
    "### This notebook downloads historical stock data from https://finance.yahoo.com/"
   ]
  },
  {
   "cell_type": "markdown",
   "id": "a306d3e9",
   "metadata": {},
   "source": [
    "#### Use the selectors below to set the required timeframe and stock codes"
   ]
  },
  {
   "cell_type": "code",
   "execution_count": null,
   "id": "540a5619",
   "metadata": {},
   "outputs": [],
   "source": [
    "import sys\n",
    "# path for helpers functions\n",
    "sys.path.append('/helpers')\n",
    "from notebook_widgets.download import selectors, check_button, check_button_output, download_button, download_button_output\n",
    "# display widgets\n",
    "for s in selectors:\n",
    "    display(selectors[s]['display'])\n",
    "    \n",
    "# display buttons\n",
    "display(check_button, check_button_output)\n",
    "display(download_button, download_button_output)"
   ]
  }
 ],
 "metadata": {
  "kernelspec": {
   "display_name": "Python 3 (ipykernel)",
   "language": "python",
   "name": "python3"
  },
  "language_info": {
   "codemirror_mode": {
    "name": "ipython",
    "version": 3
   },
   "file_extension": ".py",
   "mimetype": "text/x-python",
   "name": "python",
   "nbconvert_exporter": "python",
   "pygments_lexer": "ipython3",
   "version": "3.8.15"
  }
 },
 "nbformat": 4,
 "nbformat_minor": 5
}
