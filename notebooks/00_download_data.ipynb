{
 "cells": [
  {
   "cell_type": "markdown",
   "id": "b0baf9ac",
   "metadata": {},
   "source": [
    "### This notebook downloads historical stock data from https://finance.yahoo.com/"
   ]
  },
  {
   "cell_type": "markdown",
   "id": "a306d3e9",
   "metadata": {},
   "source": [
    "#### Use the selectors below to set the required timeframe and stock codes"
   ]
  },
  {
   "cell_type": "code",
   "execution_count": 1,
   "id": "540a5619",
   "metadata": {},
   "outputs": [
    {
     "data": {
      "application/vnd.jupyter.widget-view+json": {
       "model_id": "8e9916af887d456ba0985d82c9bbd040",
       "version_major": 2,
       "version_minor": 0
      },
      "text/plain": [
       "Dropdown(description='Start year:', options=('2010', '2011', '2012', '2013', '2014', '2015', '2016', '2017', '…"
      ]
     },
     "metadata": {},
     "output_type": "display_data"
    },
    {
     "data": {
      "application/vnd.jupyter.widget-view+json": {
       "model_id": "248160683f8e4c0f94850a69765ddb60",
       "version_major": 2,
       "version_minor": 0
      },
      "text/plain": [
       "Dropdown(description='Training:', options=('3 months', '6 months', '9 months', '12 months'), value='3 months')"
      ]
     },
     "metadata": {},
     "output_type": "display_data"
    },
    {
     "data": {
      "application/vnd.jupyter.widget-view+json": {
       "model_id": "0e436af5903245b6a10ef53728c7a11c",
       "version_major": 2,
       "version_minor": 0
      },
      "text/plain": [
       "Dropdown(description='Validation:', options=('3 months', '6 months', '9 months', '12 months'), value='3 months…"
      ]
     },
     "metadata": {},
     "output_type": "display_data"
    },
    {
     "data": {
      "application/vnd.jupyter.widget-view+json": {
       "model_id": "15fc5ca8527c4b0788596d63ceebf656",
       "version_major": 2,
       "version_minor": 0
      },
      "text/plain": [
       "SelectMultiple(description='Stock codes:', index=(0,), options=('ASX.AX', 'IJR', 'IVV', 'IVV.AX', 'VAF.AX', 'V…"
      ]
     },
     "metadata": {},
     "output_type": "display_data"
    },
    {
     "data": {
      "application/vnd.jupyter.widget-view+json": {
       "model_id": "1c5d5924023f47b3a5c82f48c124abb3",
       "version_major": 2,
       "version_minor": 0
      },
      "text/plain": [
       "Button(description='Check settings', style=ButtonStyle())"
      ]
     },
     "metadata": {},
     "output_type": "display_data"
    },
    {
     "data": {
      "application/vnd.jupyter.widget-view+json": {
       "model_id": "ee522c66ac6a44d584300c0e949c21c0",
       "version_major": 2,
       "version_minor": 0
      },
      "text/plain": [
       "Output()"
      ]
     },
     "metadata": {},
     "output_type": "display_data"
    },
    {
     "data": {
      "application/vnd.jupyter.widget-view+json": {
       "model_id": "22f4b8aad0d34fd1a3f537dd66c473a3",
       "version_major": 2,
       "version_minor": 0
      },
      "text/plain": [
       "Button(description='Download', style=ButtonStyle())"
      ]
     },
     "metadata": {},
     "output_type": "display_data"
    },
    {
     "data": {
      "application/vnd.jupyter.widget-view+json": {
       "model_id": "9f9a203d7762459f83dbfcdcca562422",
       "version_major": 2,
       "version_minor": 0
      },
      "text/plain": [
       "Output()"
      ]
     },
     "metadata": {},
     "output_type": "display_data"
    }
   ],
   "source": [
    "import sys\n",
    "# path for helpers functions\n",
    "sys.path.append('/helpers')\n",
    "from notebook_widgets.download import selectors, check_button, check_button_output, download_button, download_button_output\n",
    "# display widgets\n",
    "for s in selectors:\n",
    "    display(selectors[s]['display'])\n",
    "    \n",
    "# display buttons\n",
    "display(check_button, check_button_output)\n",
    "display(download_button, download_button_output)"
   ]
  }
 ],
 "metadata": {
  "kernelspec": {
   "display_name": "Python 3 (ipykernel)",
   "language": "python",
   "name": "python3"
  },
  "language_info": {
   "codemirror_mode": {
    "name": "ipython",
    "version": 3
   },
   "file_extension": ".py",
   "mimetype": "text/x-python",
   "name": "python",
   "nbconvert_exporter": "python",
   "pygments_lexer": "ipython3",
   "version": "3.8.16"
  },
  "widgets": {
   "application/vnd.jupyter.widget-state+json": {
    "state": {
     "05b9f5e3b5424d37b17b051b021a3f0c": {
      "model_module": "@jupyter-widgets/base",
      "model_module_version": "2.0.0",
      "model_name": "LayoutModel",
      "state": {}
     },
     "2fb15923ba6a4b20aaed109d854e79d4": {
      "model_module": "@jupyter-widgets/controls",
      "model_module_version": "2.0.0",
      "model_name": "DescriptionStyleModel",
      "state": {
       "description_width": ""
      }
     },
     "3caee52aeb07403ab2b2e80eef007ea2": {
      "model_module": "@jupyter-widgets/base",
      "model_module_version": "2.0.0",
      "model_name": "LayoutModel",
      "state": {}
     },
     "4a73aa937c6d44d182daab2fefec3f3a": {
      "model_module": "@jupyter-widgets/controls",
      "model_module_version": "2.0.0",
      "model_name": "DropdownModel",
      "state": {
       "_options_labels": [
        "3 months",
        "6 months",
        "9 months",
        "12 months"
       ],
       "description": "Validation:",
       "index": 0,
       "layout": "IPY_MODEL_6d63e1c635c546ec970e284fdf598f7c",
       "style": "IPY_MODEL_615eba6044bc43e283f5f3df69448806"
      }
     },
     "56b95a72b7a247768f8574ca955ed94e": {
      "model_module": "@jupyter-widgets/controls",
      "model_module_version": "2.0.0",
      "model_name": "ButtonModel",
      "state": {
       "description": "Download",
       "layout": "IPY_MODEL_05b9f5e3b5424d37b17b051b021a3f0c",
       "style": "IPY_MODEL_ffbe99746fd14aa0bdfd8225f421cc1b",
       "tooltip": null
      }
     },
     "5ee93cf44a4e4522a318da16e31bd866": {
      "model_module": "@jupyter-widgets/base",
      "model_module_version": "2.0.0",
      "model_name": "LayoutModel",
      "state": {}
     },
     "615eba6044bc43e283f5f3df69448806": {
      "model_module": "@jupyter-widgets/controls",
      "model_module_version": "2.0.0",
      "model_name": "DescriptionStyleModel",
      "state": {
       "description_width": ""
      }
     },
     "6bf4e6289c4c4e299ddee0c8087f152f": {
      "model_module": "@jupyter-widgets/controls",
      "model_module_version": "2.0.0",
      "model_name": "DescriptionStyleModel",
      "state": {
       "description_width": ""
      }
     },
     "6d282fe630c647469d4dedeedc1f2f14": {
      "model_module": "@jupyter-widgets/output",
      "model_module_version": "1.0.0",
      "model_name": "OutputModel",
      "state": {
       "layout": "IPY_MODEL_76fc81270419499a84d41556fb65cc89"
      }
     },
     "6d63e1c635c546ec970e284fdf598f7c": {
      "model_module": "@jupyter-widgets/base",
      "model_module_version": "2.0.0",
      "model_name": "LayoutModel",
      "state": {}
     },
     "7194e576d7d44853b4c6e141268661e9": {
      "model_module": "@jupyter-widgets/base",
      "model_module_version": "2.0.0",
      "model_name": "LayoutModel",
      "state": {}
     },
     "76fc81270419499a84d41556fb65cc89": {
      "model_module": "@jupyter-widgets/base",
      "model_module_version": "2.0.0",
      "model_name": "LayoutModel",
      "state": {}
     },
     "7f01b0447c7e473480f65fbbe3c0cd55": {
      "model_module": "@jupyter-widgets/controls",
      "model_module_version": "2.0.0",
      "model_name": "DescriptionStyleModel",
      "state": {
       "description_width": ""
      }
     },
     "8e6481df1cb0431489a7f7734ec4db53": {
      "model_module": "@jupyter-widgets/base",
      "model_module_version": "2.0.0",
      "model_name": "LayoutModel",
      "state": {}
     },
     "9edc224cdaa941079999f650858577b5": {
      "model_module": "@jupyter-widgets/controls",
      "model_module_version": "2.0.0",
      "model_name": "DropdownModel",
      "state": {
       "_options_labels": [
        "2010",
        "2011",
        "2012",
        "2013",
        "2014",
        "2015",
        "2016",
        "2017",
        "2018",
        "2019",
        "2020"
       ],
       "description": "Start year:",
       "index": 0,
       "layout": "IPY_MODEL_dcb6a511d31c4b3cb635e7897b4e062b",
       "style": "IPY_MODEL_2fb15923ba6a4b20aaed109d854e79d4"
      }
     },
     "be5a51814c7243d09cdf15a60b39a139": {
      "model_module": "@jupyter-widgets/controls",
      "model_module_version": "2.0.0",
      "model_name": "ButtonStyleModel",
      "state": {
       "font_family": null,
       "font_size": null,
       "font_style": null,
       "font_variant": null,
       "font_weight": null,
       "text_color": null,
       "text_decoration": null
      }
     },
     "bfce2c98df76488898654e4a945de4c8": {
      "model_module": "@jupyter-widgets/controls",
      "model_module_version": "2.0.0",
      "model_name": "ButtonModel",
      "state": {
       "description": "Check settings",
       "layout": "IPY_MODEL_7194e576d7d44853b4c6e141268661e9",
       "style": "IPY_MODEL_be5a51814c7243d09cdf15a60b39a139",
       "tooltip": null
      }
     },
     "d62d61652b0449e8a5d135a032db7eda": {
      "model_module": "@jupyter-widgets/output",
      "model_module_version": "1.0.0",
      "model_name": "OutputModel",
      "state": {
       "layout": "IPY_MODEL_5ee93cf44a4e4522a318da16e31bd866"
      }
     },
     "dcb6a511d31c4b3cb635e7897b4e062b": {
      "model_module": "@jupyter-widgets/base",
      "model_module_version": "2.0.0",
      "model_name": "LayoutModel",
      "state": {}
     },
     "e9986b8a9c1446ebaa20f87c82cf5643": {
      "model_module": "@jupyter-widgets/controls",
      "model_module_version": "2.0.0",
      "model_name": "SelectMultipleModel",
      "state": {
       "_options_labels": [
        "ASX.AX",
        "IJR",
        "IVV",
        "IVV.AX",
        "VAF.AX",
        "VAP.AX",
        "VAS.AX",
        "VGS.AX"
       ],
       "description": "Stock codes:",
       "index": [
        0
       ],
       "layout": "IPY_MODEL_8e6481df1cb0431489a7f7734ec4db53",
       "rows": 5,
       "style": "IPY_MODEL_7f01b0447c7e473480f65fbbe3c0cd55"
      }
     },
     "f0ee88f2c2754da78bcfe87985187a59": {
      "model_module": "@jupyter-widgets/controls",
      "model_module_version": "2.0.0",
      "model_name": "DropdownModel",
      "state": {
       "_options_labels": [
        "3 months",
        "6 months",
        "9 months",
        "12 months"
       ],
       "description": "Training:",
       "index": 0,
       "layout": "IPY_MODEL_3caee52aeb07403ab2b2e80eef007ea2",
       "style": "IPY_MODEL_6bf4e6289c4c4e299ddee0c8087f152f"
      }
     },
     "ffbe99746fd14aa0bdfd8225f421cc1b": {
      "model_module": "@jupyter-widgets/controls",
      "model_module_version": "2.0.0",
      "model_name": "ButtonStyleModel",
      "state": {
       "font_family": null,
       "font_size": null,
       "font_style": null,
       "font_variant": null,
       "font_weight": null,
       "text_color": null,
       "text_decoration": null
      }
     }
    },
    "version_major": 2,
    "version_minor": 0
   }
  }
 },
 "nbformat": 4,
 "nbformat_minor": 5
}
