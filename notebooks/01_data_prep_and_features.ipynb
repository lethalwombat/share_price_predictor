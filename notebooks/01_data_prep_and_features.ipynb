{
 "cells": [
  {
   "cell_type": "markdown",
   "id": "e578ba1d",
   "metadata": {},
   "source": [
    "### This notebook prepares the downloaded historical stock data and calculates futures necessary to run predictions"
   ]
  },
  {
   "cell_type": "markdown",
   "id": "e97093ad",
   "metadata": {},
   "source": [
    "Import libraries"
   ]
  },
  {
   "cell_type": "code",
   "execution_count": 1,
   "id": "4becf5f9",
   "metadata": {},
   "outputs": [],
   "source": [
    "import pandas as pd"
   ]
  },
  {
   "cell_type": "markdown",
   "id": "e715b9b7",
   "metadata": {},
   "source": [
    "Select the file "
   ]
  },
  {
   "cell_type": "code",
   "execution_count": 123,
   "id": "f8b14c2d",
   "metadata": {},
   "outputs": [
    {
     "name": "stdout",
     "output_type": "stream",
     "text": [
      "['download_20221125_133248.csv', 'download_20221125_124002.csv', 'download_20221125_125436.csv', 'download_20221125_125439.csv', 'download_20221125_125442.csv']\n"
     ]
    },
    {
     "data": {
      "text/plain": [
       "(503, 9)"
      ]
     },
     "execution_count": 123,
     "metadata": {},
     "output_type": "execute_result"
    }
   ],
   "source": [
    "# this will be refactored in favour of the dropdown menu\n",
    "from os import listdir\n",
    "downloaded_files = listdir('/data/')\n",
    "print(downloaded_files)\n",
    "selected_file = 'download_20221125_133248.csv'\n",
    "\n",
    "# read the file into a pandas DataFrame\n",
    "df_downloaded = pd.read_csv(f'/data/{selected_file}')\n",
    "df_downloaded.shape"
   ]
  },
  {
   "cell_type": "markdown",
   "id": "6b8fd3cf",
   "metadata": {},
   "source": [
    "Model target and features\n",
    "\n",
    "| Target | Description |\n",
    "| :--- | :--- |\n",
    "| `adj_close_diff` | difference between the adjusted closing price of the stock compared to the price the day before |\n",
    "\n",
    "\n",
    "| Feature | Description |\n",
    "| :--- | :--- |\n",
    "| `highest_5`| Is the price highest in 5 days? |\n",
    "| `highest_10`| Is the price highest in 10 days? |\n",
    "| `highest_ever`| Is the price highest ever seen? |\n",
    "| `is_monday`| Is it a Monday? |\n",
    "| `is_friday`| Is it a Friday? |\n",
    "| `decline_duration`| How many days has the price has been in decline for? Can be <0 if the price has been increasing|\n",
    "| `previous_swing`| Difference between the high and low price for the previous day|"
   ]
  },
  {
   "cell_type": "markdown",
   "id": "8077469f",
   "metadata": {},
   "source": [
    "First thing we need to reshape the dataset to contain a record for each day, e.g. weekends and public holidays included"
   ]
  },
  {
   "cell_type": "code",
   "execution_count": 124,
   "id": "072bc424",
   "metadata": {},
   "outputs": [],
   "source": [
    "# we need to do this separately for training and validation\n",
    "df_downloaded['date'] = pd.to_datetime(df_downloaded['Date'])\n",
    "_data = []\n",
    "\n",
    "for subset in ['training', 'validation']:    \n",
    "\n",
    "    \n",
    "    # get the minimum and maximum years from the downloaded dataframe\n",
    "    subset_df = (\n",
    "        df_downloaded\n",
    "        .query(f'subset == \"{subset}\"')\n",
    "        .reset_index(drop=True)\n",
    "    )\n",
    "    \n",
    "    min_date = pd.to_datetime(subset_df['Date']).min().replace(day=1)\n",
    "    max_date = month_end(pd.to_datetime(subset_df['Date']).max())\n",
    "    \n",
    "    new_dates = pd.DataFrame(\n",
    "        {\n",
    "            'date' : pd.date_range(start=min_date, end=max_date, freq='D').to_series().reset_index(drop=True)\n",
    "        })\n",
    "    \n",
    "    subset_df = (\n",
    "        df_downloaded\n",
    "        .merge(new_dates, how='right', left_on='date', right_on='date')\n",
    "        .assign(subset=subset)\n",
    "        .ffill(axis=0)\n",
    "        .bfill(axis=0)\n",
    "    )\n",
    "    _data.append(subset_df.copy())\n",
    "\n",
    "# replace the downloaded dataframe with the upsampled one\n",
    "df_downloaded = pd.concat(_data, ignore_index=True)"
   ]
  },
  {
   "cell_type": "code",
   "execution_count": 126,
   "id": "f0aae779",
   "metadata": {},
   "outputs": [
    {
     "data": {
      "text/html": [
       "<div>\n",
       "<style scoped>\n",
       "    .dataframe tbody tr th:only-of-type {\n",
       "        vertical-align: middle;\n",
       "    }\n",
       "\n",
       "    .dataframe tbody tr th {\n",
       "        vertical-align: top;\n",
       "    }\n",
       "\n",
       "    .dataframe thead th {\n",
       "        text-align: right;\n",
       "    }\n",
       "</style>\n",
       "<table border=\"1\" class=\"dataframe\">\n",
       "  <thead>\n",
       "    <tr style=\"text-align: right;\">\n",
       "      <th></th>\n",
       "      <th>Date</th>\n",
       "      <th>Open</th>\n",
       "      <th>High</th>\n",
       "      <th>Low</th>\n",
       "      <th>Close</th>\n",
       "      <th>Adj Close</th>\n",
       "      <th>Volume</th>\n",
       "      <th>stock_code</th>\n",
       "      <th>subset</th>\n",
       "      <th>date</th>\n",
       "    </tr>\n",
       "  </thead>\n",
       "  <tbody>\n",
       "    <tr>\n",
       "      <th>0</th>\n",
       "      <td>2020-01-02</td>\n",
       "      <td>324.980011</td>\n",
       "      <td>326.320007</td>\n",
       "      <td>323.950012</td>\n",
       "      <td>326.320007</td>\n",
       "      <td>312.237305</td>\n",
       "      <td>4070500.0</td>\n",
       "      <td>IVV</td>\n",
       "      <td>training</td>\n",
       "      <td>2020-01-01</td>\n",
       "    </tr>\n",
       "    <tr>\n",
       "      <th>1</th>\n",
       "      <td>2020-01-02</td>\n",
       "      <td>324.980011</td>\n",
       "      <td>326.320007</td>\n",
       "      <td>323.950012</td>\n",
       "      <td>326.320007</td>\n",
       "      <td>312.237305</td>\n",
       "      <td>4070500.0</td>\n",
       "      <td>IVV</td>\n",
       "      <td>training</td>\n",
       "      <td>2020-01-02</td>\n",
       "    </tr>\n",
       "    <tr>\n",
       "      <th>2</th>\n",
       "      <td>2020-01-03</td>\n",
       "      <td>322.529999</td>\n",
       "      <td>325.059998</td>\n",
       "      <td>322.510010</td>\n",
       "      <td>323.809998</td>\n",
       "      <td>309.835541</td>\n",
       "      <td>4290400.0</td>\n",
       "      <td>IVV</td>\n",
       "      <td>training</td>\n",
       "      <td>2020-01-03</td>\n",
       "    </tr>\n",
       "    <tr>\n",
       "      <th>3</th>\n",
       "      <td>2020-01-03</td>\n",
       "      <td>322.529999</td>\n",
       "      <td>325.059998</td>\n",
       "      <td>322.510010</td>\n",
       "      <td>323.809998</td>\n",
       "      <td>309.835541</td>\n",
       "      <td>4290400.0</td>\n",
       "      <td>IVV</td>\n",
       "      <td>training</td>\n",
       "      <td>2020-01-04</td>\n",
       "    </tr>\n",
       "    <tr>\n",
       "      <th>4</th>\n",
       "      <td>2020-01-03</td>\n",
       "      <td>322.529999</td>\n",
       "      <td>325.059998</td>\n",
       "      <td>322.510010</td>\n",
       "      <td>323.809998</td>\n",
       "      <td>309.835541</td>\n",
       "      <td>4290400.0</td>\n",
       "      <td>IVV</td>\n",
       "      <td>training</td>\n",
       "      <td>2020-01-05</td>\n",
       "    </tr>\n",
       "  </tbody>\n",
       "</table>\n",
       "</div>"
      ],
      "text/plain": [
       "         Date        Open        High         Low       Close   Adj Close  \\\n",
       "0  2020-01-02  324.980011  326.320007  323.950012  326.320007  312.237305   \n",
       "1  2020-01-02  324.980011  326.320007  323.950012  326.320007  312.237305   \n",
       "2  2020-01-03  322.529999  325.059998  322.510010  323.809998  309.835541   \n",
       "3  2020-01-03  322.529999  325.059998  322.510010  323.809998  309.835541   \n",
       "4  2020-01-03  322.529999  325.059998  322.510010  323.809998  309.835541   \n",
       "\n",
       "      Volume stock_code    subset       date  \n",
       "0  4070500.0        IVV  training 2020-01-01  \n",
       "1  4070500.0        IVV  training 2020-01-02  \n",
       "2  4290400.0        IVV  training 2020-01-03  \n",
       "3  4290400.0        IVV  training 2020-01-04  \n",
       "4  4290400.0        IVV  training 2020-01-05  "
      ]
     },
     "execution_count": 126,
     "metadata": {},
     "output_type": "execute_result"
    }
   ],
   "source": [
    "df_downloaded.head()"
   ]
  },
  {
   "cell_type": "code",
   "execution_count": 72,
   "id": "0c5fe455",
   "metadata": {},
   "outputs": [],
   "source": [
    "def month_end(dt):\n",
    "    '''Convert the date to end of the month'''\n",
    "    return (dt.replace(day=28) + timedelta(days=4)).replace(day=1) - timedelta(days=1)"
   ]
  },
  {
   "cell_type": "code",
   "execution_count": 2,
   "id": "bf6e41b9",
   "metadata": {},
   "outputs": [
    {
     "name": "stdout",
     "output_type": "stream",
     "text": [
      "/notebooks\n"
     ]
    }
   ],
   "source": [
    "from os import listdir, getcwd\n",
    "\n",
    "print(getcwd())"
   ]
  },
  {
   "cell_type": "code",
   "execution_count": 8,
   "id": "37cdc65a",
   "metadata": {},
   "outputs": [
    {
     "data": {
      "text/plain": [
       "['download_20221125_124002.csv',\n",
       " 'download_20221125_125436.csv',\n",
       " 'download_20221125_125439.csv',\n",
       " 'download_20221125_125442.csv']"
      ]
     },
     "execution_count": 8,
     "metadata": {},
     "output_type": "execute_result"
    }
   ],
   "source": [
    "listdir('/data')"
   ]
  },
  {
   "cell_type": "code",
   "execution_count": 9,
   "id": "df33a93b",
   "metadata": {},
   "outputs": [
    {
     "data": {
      "text/html": [
       "<div>\n",
       "<style scoped>\n",
       "    .dataframe tbody tr th:only-of-type {\n",
       "        vertical-align: middle;\n",
       "    }\n",
       "\n",
       "    .dataframe tbody tr th {\n",
       "        vertical-align: top;\n",
       "    }\n",
       "\n",
       "    .dataframe thead th {\n",
       "        text-align: right;\n",
       "    }\n",
       "</style>\n",
       "<table border=\"1\" class=\"dataframe\">\n",
       "  <thead>\n",
       "    <tr style=\"text-align: right;\">\n",
       "      <th></th>\n",
       "      <th>Date</th>\n",
       "      <th>Open</th>\n",
       "      <th>High</th>\n",
       "      <th>Low</th>\n",
       "      <th>Close</th>\n",
       "      <th>Adj Close</th>\n",
       "      <th>Volume</th>\n",
       "      <th>stock_code</th>\n",
       "      <th>subset</th>\n",
       "    </tr>\n",
       "  </thead>\n",
       "  <tbody>\n",
       "    <tr>\n",
       "      <th>0</th>\n",
       "      <td>2010-01-04</td>\n",
       "      <td>63.000000</td>\n",
       "      <td>63.320000</td>\n",
       "      <td>62.919998</td>\n",
       "      <td>62.930000</td>\n",
       "      <td>62.930000</td>\n",
       "      <td>24802</td>\n",
       "      <td>VAS.AX</td>\n",
       "      <td>training</td>\n",
       "    </tr>\n",
       "    <tr>\n",
       "      <th>1</th>\n",
       "      <td>2010-01-05</td>\n",
       "      <td>63.700001</td>\n",
       "      <td>63.750000</td>\n",
       "      <td>63.470001</td>\n",
       "      <td>63.580002</td>\n",
       "      <td>63.580002</td>\n",
       "      <td>10083</td>\n",
       "      <td>VAS.AX</td>\n",
       "      <td>training</td>\n",
       "    </tr>\n",
       "    <tr>\n",
       "      <th>2</th>\n",
       "      <td>2010-01-06</td>\n",
       "      <td>63.770000</td>\n",
       "      <td>63.770000</td>\n",
       "      <td>63.400002</td>\n",
       "      <td>63.490002</td>\n",
       "      <td>63.490002</td>\n",
       "      <td>8573</td>\n",
       "      <td>VAS.AX</td>\n",
       "      <td>training</td>\n",
       "    </tr>\n",
       "    <tr>\n",
       "      <th>3</th>\n",
       "      <td>2010-01-07</td>\n",
       "      <td>63.730000</td>\n",
       "      <td>63.730000</td>\n",
       "      <td>63.299999</td>\n",
       "      <td>63.299999</td>\n",
       "      <td>63.299999</td>\n",
       "      <td>4932</td>\n",
       "      <td>VAS.AX</td>\n",
       "      <td>training</td>\n",
       "    </tr>\n",
       "    <tr>\n",
       "      <th>4</th>\n",
       "      <td>2010-01-08</td>\n",
       "      <td>63.500000</td>\n",
       "      <td>63.689999</td>\n",
       "      <td>63.349998</td>\n",
       "      <td>63.389999</td>\n",
       "      <td>63.389999</td>\n",
       "      <td>5223</td>\n",
       "      <td>VAS.AX</td>\n",
       "      <td>training</td>\n",
       "    </tr>\n",
       "  </tbody>\n",
       "</table>\n",
       "</div>"
      ],
      "text/plain": [
       "         Date       Open       High        Low      Close  Adj Close  Volume  \\\n",
       "0  2010-01-04  63.000000  63.320000  62.919998  62.930000  62.930000   24802   \n",
       "1  2010-01-05  63.700001  63.750000  63.470001  63.580002  63.580002   10083   \n",
       "2  2010-01-06  63.770000  63.770000  63.400002  63.490002  63.490002    8573   \n",
       "3  2010-01-07  63.730000  63.730000  63.299999  63.299999  63.299999    4932   \n",
       "4  2010-01-08  63.500000  63.689999  63.349998  63.389999  63.389999    5223   \n",
       "\n",
       "  stock_code    subset  \n",
       "0     VAS.AX  training  \n",
       "1     VAS.AX  training  \n",
       "2     VAS.AX  training  \n",
       "3     VAS.AX  training  \n",
       "4     VAS.AX  training  "
      ]
     },
     "execution_count": 9,
     "metadata": {},
     "output_type": "execute_result"
    }
   ],
   "source": [
    "test = pd.read_csv('/data/download_20221125_125442.csv')\n",
    "test.head()"
   ]
  },
  {
   "cell_type": "code",
   "execution_count": null,
   "id": "f9b5b313",
   "metadata": {},
   "outputs": [],
   "source": []
  },
  {
   "cell_type": "code",
   "execution_count": 43,
   "id": "4876ca1b",
   "metadata": {},
   "outputs": [
    {
     "name": "stdout",
     "output_type": "stream",
     "text": [
      "0     2010-01-01\n",
      "1     2010-01-02\n",
      "2     2010-01-03\n",
      "3     2010-01-04\n",
      "4     2010-01-05\n",
      "         ...    \n",
      "360   2010-12-27\n",
      "361   2010-12-28\n",
      "362   2010-12-29\n",
      "363   2010-12-30\n",
      "364   2010-12-31\n",
      "Length: 365, dtype: datetime64[ns]\n"
     ]
    }
   ],
   "source": [
    "from datetime import datetime\n",
    "\n",
    "date1 = datetime.strptime('2010-01-01', '%Y-%m-%d').date()\n",
    "date2 = datetime.strptime('2010-12-31', '%Y-%m-%d').date()\n",
    "\n",
    "index = pd.date_range(start=date1, end=date2, freq='D').to_series().reset_index(drop=True)\n",
    "print(index)"
   ]
  },
  {
   "cell_type": "code",
   "execution_count": null,
   "id": "6c5e3944",
   "metadata": {},
   "outputs": [],
   "source": []
  },
  {
   "cell_type": "code",
   "execution_count": null,
   "id": "94dc9085",
   "metadata": {},
   "outputs": [],
   "source": []
  },
  {
   "cell_type": "code",
   "execution_count": null,
   "id": "1a834850",
   "metadata": {},
   "outputs": [],
   "source": []
  }
 ],
 "metadata": {
  "kernelspec": {
   "display_name": "Python 3 (ipykernel)",
   "language": "python",
   "name": "python3"
  },
  "language_info": {
   "codemirror_mode": {
    "name": "ipython",
    "version": 3
   },
   "file_extension": ".py",
   "mimetype": "text/x-python",
   "name": "python",
   "nbconvert_exporter": "python",
   "pygments_lexer": "ipython3",
   "version": "3.8.15"
  }
 },
 "nbformat": 4,
 "nbformat_minor": 5
}
