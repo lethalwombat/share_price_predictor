{
 "cells": [
  {
   "cell_type": "markdown",
   "id": "98ee77cf",
   "metadata": {},
   "source": [
    "### This notebook prepares the downloaded historical stock data and calculates futures necessary to run predictions"
   ]
  },
  {
   "cell_type": "markdown",
   "id": "d2fafc37",
   "metadata": {},
   "source": [
    "Import libraries"
   ]
  },
  {
   "cell_type": "code",
   "execution_count": 21,
   "id": "4b734d1c",
   "metadata": {},
   "outputs": [],
   "source": [
    "import sys\n",
    "import pandas as pd\n",
    "sys.path.append('/helpers')\n",
    "from dates import month_end\n",
    "# data preparation dastaframe functions\n",
    "from dataframes import rolling_max, cumulative_max, increase_decline_streak, previous_swing"
   ]
  },
  {
   "cell_type": "markdown",
   "id": "245368d5",
   "metadata": {},
   "source": [
    "Import the widgets"
   ]
  },
  {
   "cell_type": "code",
   "execution_count": 40,
   "id": "42eb6417",
   "metadata": {},
   "outputs": [
    {
     "data": {
      "application/vnd.jupyter.widget-view+json": {
       "model_id": "bf80e395a2d14cdab338c7a743544eb1",
       "version_major": 2,
       "version_minor": 0
      },
      "text/plain": [
       "Dropdown(description='File:', options=('download_20221209_181319', 'download_20221209_181333', 'download_20221…"
      ]
     },
     "metadata": {},
     "output_type": "display_data"
    },
    {
     "data": {
      "application/vnd.jupyter.widget-view+json": {
       "model_id": "193229c294b542948819d177f6582b87",
       "version_major": 2,
       "version_minor": 0
      },
      "text/plain": [
       "Dropdown(description='Stock code:', index=3, options=('ASX.AX', 'IJR', 'IVV', 'IVV.AX', 'VAF.AX', 'VAP.AX', 'V…"
      ]
     },
     "metadata": {},
     "output_type": "display_data"
    }
   ],
   "source": [
    "from notebook_widgets.data_prep import selectors\n",
    "# display widgets\n",
    "for s in selectors:\n",
    "    display(selectors[s]['display'])"
   ]
  },
  {
   "cell_type": "markdown",
   "id": "feecafe9",
   "metadata": {},
   "source": [
    "Import the selected download"
   ]
  },
  {
   "cell_type": "code",
   "execution_count": 41,
   "id": "b423dca0",
   "metadata": {},
   "outputs": [
    {
     "name": "stdout",
     "output_type": "stream",
     "text": [
      "Number of records: 508\n"
     ]
    }
   ],
   "source": [
    "selected_download = (\n",
    "    pd.read_csv('/data/' + selectors['file']['display'].value + '.csv', parse_dates=['Date'])\n",
    "    .query('stock_code == \"{}\"'.format(selectors['stock_code']['display'].value))\n",
    "    .reset_index(drop=True)\n",
    ")\n",
    "\n",
    "# display number of records\n",
    "print('Number of records: {}'.format(selected_download.shape[0]))"
   ]
  },
  {
   "cell_type": "markdown",
   "id": "f04ed9ba",
   "metadata": {},
   "source": [
    "Let's reshape the dataset to contain a record for each day, e.g. weekends and public holidays included"
   ]
  },
  {
   "cell_type": "code",
   "execution_count": 42,
   "id": "672e65e7",
   "metadata": {},
   "outputs": [
    {
     "name": "stdout",
     "output_type": "stream",
     "text": [
      "Number of records: 731\n"
     ]
    }
   ],
   "source": [
    "_data = []\n",
    "\n",
    "for subset in ['training', 'validation']: \n",
    "\n",
    "    # get the minimum and maximum years from the downloaded dataframe\n",
    "    subset_df = (\n",
    "        selected_download\n",
    "        .query(f'subset == \"{subset}\"')\n",
    "        .reset_index(drop=True)\n",
    "    )\n",
    "    \n",
    "    min_date = pd.to_datetime(subset_df['Date']).min().replace(day=1)\n",
    "    max_date = month_end(pd.to_datetime(subset_df['Date']).max())\n",
    "    \n",
    "    new_dates = pd.DataFrame(\n",
    "        {\n",
    "            'Date' : pd.date_range(start=min_date, end=max_date, freq='D').to_series().reset_index(drop=True)\n",
    "        })\n",
    "    \n",
    "    subset_df = (\n",
    "        selected_download\n",
    "        .merge(new_dates, how='right', left_on='Date', right_on='Date')\n",
    "        .assign(subset=subset)\n",
    "        .ffill(axis=0)\n",
    "        .bfill(axis=0)\n",
    "    )\n",
    "    _data.append(subset_df.copy())\n",
    "\n",
    "# replace the downloaded dataframe with the upsampled one\n",
    "selected_download = pd.concat(_data, ignore_index=True)\n",
    "\n",
    "# display number of records\n",
    "print('Number of records: {}'.format(selected_download.shape[0]))"
   ]
  },
  {
   "cell_type": "markdown",
   "id": "f166375f",
   "metadata": {},
   "source": [
    "Model target and features\n",
    "\n",
    "| Target | Description |\n",
    "| :--- | :--- |\n",
    "| `adj_close_next_day` | adjusted closing price increase on the next day |\n",
    "\n",
    "\n",
    "| Feature | Description |\n",
    "| :--- | :--- |\n",
    "| `highest_5`| Is the price highest in 5 days? |\n",
    "| `highest_10`| Is the price highest in 10 days? |\n",
    "| `highest_30`| Is the price highest in 30 days? |\n",
    "| `highest_ever`| Is the price highest ever seen? |\n",
    "| `is_monday`| Is it a Monday? |\n",
    "| `is_friday`| Is it a Friday? |\n",
    "| `increase_streak`| Number of consecutive days the close price has been increasing, i.e. higher than the day before|\n",
    "| `decline_streak`| Number of consecutive days the close price has been decreasing, i.e. lower than the day before|\n",
    "| `previous_swing`| Difference between the high and low price for the previous day|"
   ]
  },
  {
   "cell_type": "markdown",
   "id": "d73c97ac",
   "metadata": {},
   "source": [
    "We start by calculating the target `adj_close_next_day` first"
   ]
  },
  {
   "cell_type": "code",
   "execution_count": 43,
   "id": "b63aa824",
   "metadata": {},
   "outputs": [],
   "source": [
    "selected_download = (\n",
    "    selected_download\n",
    "    .assign(adj_close_next_day = 1 / (selected_download['Adj Close'].pct_change(periods=-1) + 1))\n",
    ")"
   ]
  },
  {
   "cell_type": "markdown",
   "id": "310fe87f",
   "metadata": {},
   "source": [
    "Calculate `1 or 0` flag if the price is the highest in 5, 10 and 30 days, e.g. `highest_5`, `highest_10` and `highest_30`\n",
    "\n",
    "Calculate `1 or 0` flag if the price is the highest ever or cumulative max, e.g. `highest_ever`"
   ]
  },
  {
   "cell_type": "code",
   "execution_count": 44,
   "id": "3f9d980b",
   "metadata": {},
   "outputs": [],
   "source": [
    "selected_download = (\n",
    "    selected_download\n",
    "    .pipe(rolling_max, 'Adj Close', 5)\n",
    "    .pipe(rolling_max, 'Adj Close', 10)\n",
    "    .pipe(rolling_max, 'Adj Close', 30)\n",
    "    .pipe(cumulative_max, 'Adj Close')\n",
    ")"
   ]
  },
  {
   "cell_type": "markdown",
   "id": "7a331363",
   "metadata": {},
   "source": [
    "Calculate date features `is_monday` and `is_friday`"
   ]
  },
  {
   "cell_type": "code",
   "execution_count": 45,
   "id": "5774e622",
   "metadata": {},
   "outputs": [],
   "source": [
    "selected_download = (\n",
    "    selected_download\n",
    "    .assign(is_monday=selected_download['Date'].dt.weekday.apply(lambda ser : 1 if ser == 0 else 0))\n",
    "    .assign(is_friday=selected_download['Date'].dt.weekday.apply(lambda ser : 1 if ser == 4 else 0))    \n",
    ")"
   ]
  },
  {
   "cell_type": "markdown",
   "id": "9177e657",
   "metadata": {},
   "source": [
    "Calculate date increase and decline streaks, e.g. number of days the price has been increasing `increase_streak` or declining `decline_streak` "
   ]
  },
  {
   "cell_type": "code",
   "execution_count": 46,
   "id": "b85df11d",
   "metadata": {},
   "outputs": [],
   "source": [
    "selected_download = (\n",
    "    selected_download\n",
    "    .pipe(increase_decline_streak, 'Adj Close')\n",
    ")"
   ]
  },
  {
   "cell_type": "markdown",
   "id": "435a7caf",
   "metadata": {},
   "source": [
    "Calculate difference between the High and Low price for the previous day `previous_swing`"
   ]
  },
  {
   "cell_type": "code",
   "execution_count": 47,
   "id": "2114f2fe",
   "metadata": {},
   "outputs": [],
   "source": [
    "selected_download = (\n",
    "    selected_download\n",
    "    .pipe(previous_swing, ('High', 'Low'))\n",
    ")"
   ]
  },
  {
   "cell_type": "markdown",
   "id": "7934e53b",
   "metadata": {},
   "source": [
    "Save the prepared data into `/data`"
   ]
  },
  {
   "cell_type": "code",
   "execution_count": 50,
   "id": "5e92b388",
   "metadata": {},
   "outputs": [
    {
     "name": "stdout",
     "output_type": "stream",
     "text": [
      "Features file save as 'features_20221209_181319_IVV.AX.csv'\n"
     ]
    }
   ],
   "source": [
    "# generate a file name\n",
    "_ = lambda x, y : 'features_' + x.split('download_')[1] + f'_{y}.csv'\n",
    "features_file_name = _(selectors['file']['display'].value, selectors['stock_code']['display'].value)\n",
    "\n",
    "# output the file\n",
    "(selected_download\n",
    " .drop(columns=['stock_code', 'Open', 'High', 'Low', 'Close', 'Adj Close', 'Volume'])\n",
    " .loc[~selected_download['adj_close_next_day'].isna()]\n",
    " .reset_index(drop=True)\n",
    " .to_csv(f'../data/{features_file_name}', index=False)\n",
    ")\n",
    "\n",
    "print(f\"Features file save as '{features_file_name}'\")"
   ]
  }
 ],
 "metadata": {
  "kernelspec": {
   "display_name": "Python 3 (ipykernel)",
   "language": "python",
   "name": "python3"
  },
  "language_info": {
   "codemirror_mode": {
    "name": "ipython",
    "version": 3
   },
   "file_extension": ".py",
   "mimetype": "text/x-python",
   "name": "python",
   "nbconvert_exporter": "python",
   "pygments_lexer": "ipython3",
   "version": "3.8.15"
  }
 },
 "nbformat": 4,
 "nbformat_minor": 5
}
