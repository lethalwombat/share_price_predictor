{
 "cells": [
  {
   "cell_type": "markdown",
   "id": "98ee77cf",
   "metadata": {},
   "source": [
    "### This notebook prepares the downloaded historical stock data and calculates futures necessary to run predictions"
   ]
  },
  {
   "cell_type": "markdown",
   "id": "d2fafc37",
   "metadata": {},
   "source": [
    "Import libraries"
   ]
  },
  {
   "cell_type": "code",
   "execution_count": 1,
   "id": "4b734d1c",
   "metadata": {},
   "outputs": [
    {
     "data": {
      "application/vnd.jupyter.widget-view+json": {
       "model_id": "e9248db39d494092a9f8a332570263a7",
       "version_major": 2,
       "version_minor": 0
      },
      "text/plain": [
       "Dropdown(description='File:', options=('download_20221209_181319', 'download_20221209_181333', 'download_20221…"
      ]
     },
     "metadata": {},
     "output_type": "display_data"
    },
    {
     "data": {
      "application/vnd.jupyter.widget-view+json": {
       "model_id": "03bf6f4be74f4e4baedee844ba5c6864",
       "version_major": 2,
       "version_minor": 0
      },
      "text/plain": [
       "Button(description='Prepare features', style=ButtonStyle())"
      ]
     },
     "metadata": {},
     "output_type": "display_data"
    },
    {
     "data": {
      "application/vnd.jupyter.widget-view+json": {
       "model_id": "f5acc432c15945fd940e98e7ee723b5f",
       "version_major": 2,
       "version_minor": 0
      },
      "text/plain": [
       "Output()"
      ]
     },
     "metadata": {},
     "output_type": "display_data"
    }
   ],
   "source": [
    "import sys\n",
    "sys.path.append('/helpers')\n",
    "from notebook_widgets.data_prep import selectors, prep_features_button, prep_features_button_output\n",
    "# display widgets\n",
    "for s in selectors:\n",
    "    display(selectors[s]['display'])\n",
    "    \n",
    "# display buttons\n",
    "display(prep_features_button, prep_features_button_output)"
   ]
  },
  {
   "cell_type": "markdown",
   "id": "f166375f",
   "metadata": {},
   "source": [
    "Model target and features\n",
    "\n",
    "| Target | Description |\n",
    "| :--- | :--- |\n",
    "| `adj_close_next_day` | adjusted closing price increase on the next day |\n",
    "\n",
    "\n",
    "| Feature | Description |\n",
    "| :--- | :--- |\n",
    "| `highest_5`| Is the price highest in 5 days? |\n",
    "| `highest_10`| Is the price highest in 10 days? |\n",
    "| `highest_30`| Is the price highest in 30 days? |\n",
    "| `highest_ever`| Is the price highest ever seen? |\n",
    "| `is_monday`| Is it a Monday? |\n",
    "| `is_friday`| Is it a Friday? |\n",
    "| `increase_streak`| Number of consecutive days the close price has been increasing, i.e. higher than the day before|\n",
    "| `decline_streak`| Number of consecutive days the close price has been decreasing, i.e. lower than the day before|\n",
    "| `previous_swing`| Difference between the high and low price for the previous day|"
   ]
  }
 ],
 "metadata": {
  "kernelspec": {
   "display_name": "Python 3 (ipykernel)",
   "language": "python",
   "name": "python3"
  },
  "language_info": {
   "codemirror_mode": {
    "name": "ipython",
    "version": 3
   },
   "file_extension": ".py",
   "mimetype": "text/x-python",
   "name": "python",
   "nbconvert_exporter": "python",
   "pygments_lexer": "ipython3",
   "version": "3.8.15"
  }
 },
 "nbformat": 4,
 "nbformat_minor": 5
}
