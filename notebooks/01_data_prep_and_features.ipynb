{
 "cells": [
  {
   "cell_type": "markdown",
   "id": "98ee77cf",
   "metadata": {},
   "source": [
    "### This notebook prepares the downloaded historical stock data and calculates futures necessary to run predictions"
   ]
  },
  {
   "cell_type": "markdown",
   "id": "d2fafc37",
   "metadata": {},
   "source": [
    "Import libraries"
   ]
  },
  {
   "cell_type": "code",
   "execution_count": null,
   "id": "4b734d1c",
   "metadata": {},
   "outputs": [],
   "source": [
    "import sys\n",
    "import pandas as pd\n",
    "sys.path.append('/helpers')\n",
    "from dates import month_end"
   ]
  },
  {
   "cell_type": "markdown",
   "id": "245368d5",
   "metadata": {},
   "source": [
    "Import the widgets"
   ]
  },
  {
   "cell_type": "code",
   "execution_count": null,
   "id": "42eb6417",
   "metadata": {},
   "outputs": [],
   "source": [
    "from notebook_widgets.data_prep import selectors\n",
    "# display widgets\n",
    "for s in selectors:\n",
    "    display(selectors[s]['display'])"
   ]
  },
  {
   "cell_type": "markdown",
   "id": "feecafe9",
   "metadata": {},
   "source": [
    "Import the selected download"
   ]
  },
  {
   "cell_type": "code",
   "execution_count": null,
   "id": "b423dca0",
   "metadata": {},
   "outputs": [],
   "source": [
    "selected_download = (\n",
    "    pd.read_csv('/data/' + selectors['file']['display'].value + '.csv', parse_dates=['Date'])\n",
    "    .query('stock_code == \"{}\"'.format(selectors['stock_code']['display'].value))\n",
    "    .reset_index(drop=True)\n",
    ")\n",
    "\n",
    "# display number of records\n",
    "print('Number of records: {}'.format(selected_download.shape[0]))"
   ]
  },
  {
   "cell_type": "markdown",
   "id": "f04ed9ba",
   "metadata": {},
   "source": [
    "Let's reshape the dataset to contain a record for each day, e.g. weekends and public holidays included"
   ]
  },
  {
   "cell_type": "code",
   "execution_count": null,
   "id": "672e65e7",
   "metadata": {},
   "outputs": [],
   "source": [
    "_data = []\n",
    "\n",
    "for subset in ['training', 'validation']: \n",
    "\n",
    "    # get the minimum and maximum years from the downloaded dataframe\n",
    "    subset_df = (\n",
    "        selected_download\n",
    "        .query(f'subset == \"{subset}\"')\n",
    "        .reset_index(drop=True)\n",
    "    )\n",
    "    \n",
    "    min_date = pd.to_datetime(subset_df['Date']).min().replace(day=1)\n",
    "    max_date = month_end(pd.to_datetime(subset_df['Date']).max())\n",
    "    \n",
    "    new_dates = pd.DataFrame(\n",
    "        {\n",
    "            'Date' : pd.date_range(start=min_date, end=max_date, freq='D').to_series().reset_index(drop=True)\n",
    "        })\n",
    "    \n",
    "    subset_df = (\n",
    "        selected_download\n",
    "        .merge(new_dates, how='right', left_on='Date', right_on='Date')\n",
    "        .assign(subset=subset)\n",
    "        .ffill(axis=0)\n",
    "        .bfill(axis=0)\n",
    "    )\n",
    "    _data.append(subset_df.copy())\n",
    "\n",
    "# replace the downloaded dataframe with the upsampled one\n",
    "selected_download = pd.concat(_data, ignore_index=True)\n",
    "\n",
    "# display number of records\n",
    "print('Number of records: {}'.format(selected_download.shape[0]))"
   ]
  },
  {
   "cell_type": "markdown",
   "id": "f166375f",
   "metadata": {},
   "source": [
    "Model target and features\n",
    "\n",
    "| Target | Description |\n",
    "| :--- | :--- |\n",
    "| `adj_close_next_day` | adjusted closing price increase on the next day |\n",
    "\n",
    "\n",
    "| Feature | Description |\n",
    "| :--- | :--- |\n",
    "| `highest_5`| Is the price highest in 5 days? |\n",
    "| `highest_10`| Is the price highest in 10 days? |\n",
    "| `highest_30`| Is the price highest in 30 days? |\n",
    "| `highest_ever`| Is the price highest ever seen? |\n",
    "| `is_monday`| Is it a Monday? |\n",
    "| `is_friday`| Is it a Friday? |\n",
    "| `decline_duration`| How many days has the price has been in decline for? Can be <0 if the price has been increasing|\n",
    "| `previous_swing`| Difference between the high and low price for the previous day|"
   ]
  },
  {
   "cell_type": "markdown",
   "id": "d73c97ac",
   "metadata": {},
   "source": [
    "We start by calculating the target `adj_close_next_day` first"
   ]
  },
  {
   "cell_type": "code",
   "execution_count": null,
   "id": "b63aa824",
   "metadata": {},
   "outputs": [],
   "source": [
    "selected_download = (\n",
    "    selected_download\n",
    "    .assign(adj_close_next_day = 1 / (selected_download['Adj Close'].pct_change(periods=-1) + 1))\n",
    ")"
   ]
  },
  {
   "cell_type": "markdown",
   "id": "310fe87f",
   "metadata": {},
   "source": [
    "Calculate `1 or 0` flag if the price is the highest in 5, 10 and 30 days, e.g. `highest_5`, `highest_10` and `highest_30`\n",
    "\n",
    "Calculate `1 or 0` flag if the price is the highest ever or cumulative max, e.g. `highest_ever`"
   ]
  },
  {
   "cell_type": "code",
   "execution_count": null,
   "id": "3f9d980b",
   "metadata": {},
   "outputs": [],
   "source": [
    "from dataframes import rolling_max, cumulative_max\n",
    "\n",
    "selected_download = (\n",
    "    selected_download\n",
    "    .pipe(rolling_max, 'Adj Close', 5)\n",
    "    .pipe(rolling_max, 'Adj Close', 10)\n",
    "    .pipe(rolling_max, 'Adj Close', 30)\n",
    "    .pipe(cumulative_max, 'Adj Close')\n",
    ")"
   ]
  },
  {
   "cell_type": "markdown",
   "id": "7a331363",
   "metadata": {},
   "source": [
    "Calculate date features `is_monday` and `is_friday`"
   ]
  },
  {
   "cell_type": "code",
   "execution_count": null,
   "id": "5774e622",
   "metadata": {},
   "outputs": [],
   "source": [
    "selected_download = (\n",
    "    selected_download\n",
    "    .assign(is_monday=selected_download['Date'].dt.weekday.apply(lambda ser : 1 if ser == 0 else 0))\n",
    "    .assign(is_friday=selected_download['Date'].dt.weekday.apply(lambda ser : 1 if ser == 4 else 0))    \n",
    ")"
   ]
  },
  {
   "cell_type": "markdown",
   "id": "9177e657",
   "metadata": {},
   "source": [
    "Calculate date increase and decline streaks, e.g. number of days the price has been increasing or declining. "
   ]
  },
  {
   "cell_type": "code",
   "execution_count": null,
   "id": "b85df11d",
   "metadata": {},
   "outputs": [],
   "source": [
    "from dataframes import increase_decline_streak\n",
    "selected_download = (\n",
    "    selected_download\n",
    "    .pipe(increase_decline_streak, 'Adj Close')\n",
    ")"
   ]
  }
 ],
 "metadata": {
  "kernelspec": {
   "display_name": "Python 3 (ipykernel)",
   "language": "python",
   "name": "python3"
  },
  "language_info": {
   "codemirror_mode": {
    "name": "ipython",
    "version": 3
   },
   "file_extension": ".py",
   "mimetype": "text/x-python",
   "name": "python",
   "nbconvert_exporter": "python",
   "pygments_lexer": "ipython3",
   "version": "3.8.15"
  }
 },
 "nbformat": 4,
 "nbformat_minor": 5
}
